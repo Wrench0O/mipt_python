{
 "cells": [
  {
   "cell_type": "code",
   "execution_count": 12,
   "id": "b98b1e30",
   "metadata": {},
   "outputs": [],
   "source": [
    "from random import randint\n",
    "import math as m\n",
    "import turtle as t"
   ]
  },
  {
   "cell_type": "code",
   "execution_count": 13,
   "id": "eb1eac8e",
   "metadata": {},
   "outputs": [
    {
     "data": {
      "text/plain": [
       "-0.9851462604682474"
      ]
     },
     "execution_count": 13,
     "metadata": {},
     "output_type": "execute_result"
    }
   ],
   "source": [
    "a = randint(10,99)\n",
    "m.sin(a)"
   ]
  },
  {
   "cell_type": "code",
   "execution_count": 14,
   "id": "f77c1867",
   "metadata": {},
   "outputs": [],
   "source": [
    "a=[1,2,3]\n",
    "b=a\n",
    "b[0]=7 #a changes as well\n",
    "b=a.copy() #ok"
   ]
  },
  {
   "cell_type": "code",
   "execution_count": 15,
   "id": "8760a46b",
   "metadata": {},
   "outputs": [],
   "source": [
    "a = '1 2 3 4 5 6'\n",
    "b=a.split()\n",
    "c = list(map(int, b)) #turns str into int one by one"
   ]
  },
  {
   "cell_type": "markdown",
   "id": "ea28af13",
   "metadata": {},
   "source": [
    "Генераторы"
   ]
  },
  {
   "cell_type": "code",
   "execution_count": 16,
   "id": "4565cbba",
   "metadata": {},
   "outputs": [],
   "source": [
    "#a= [\"expr\" for \"var\" in \"seq\" \"cond\"]\n",
    "a = [i**2 for i in range(0,50) if i%3==0]"
   ]
  },
  {
   "cell_type": "code",
   "execution_count": null,
   "id": "93779cbd",
   "metadata": {},
   "outputs": [],
   "source": []
  },
  {
   "cell_type": "code",
   "execution_count": null,
   "id": "fcf0395e",
   "metadata": {},
   "outputs": [],
   "source": []
  },
  {
   "cell_type": "markdown",
   "id": "548b2046",
   "metadata": {},
   "source": [
    "объекты"
   ]
  },
  {
   "cell_type": "code",
   "execution_count": null,
   "id": "7345641a",
   "metadata": {},
   "outputs": [],
   "source": []
  },
  {
   "cell_type": "markdown",
   "id": "4ed316fd",
   "metadata": {},
   "source": [
    "Упражнение 1"
   ]
  },
  {
   "cell_type": "code",
   "execution_count": 17,
   "id": "68672b6b",
   "metadata": {},
   "outputs": [],
   "source": [
    "t.speed(0)\n",
    "t.shape('turtle')\n",
    "t.color(\"black\",\"yellow\")\n",
    "for i in range(100):\n",
    "    t.forward(randint(0,50))\n",
    "    t.left(randint(0,360))"
   ]
  },
  {
   "cell_type": "code",
   "execution_count": 18,
   "id": "9a3ad63d",
   "metadata": {},
   "outputs": [],
   "source": [
    "t.reset()"
   ]
  },
  {
   "cell_type": "markdown",
   "id": "af5b90d4",
   "metadata": {},
   "source": [
    "Упражнение 2"
   ]
  },
  {
   "cell_type": "code",
   "execution_count": 19,
   "id": "1ba52751",
   "metadata": {},
   "outputs": [
    {
     "data": {
      "text/plain": [
       "'commands = [(t.forward, (20,), t.right, (90,), t.forward, (40,), t.right, (90,), t.forward, (20,), t.right, (90,), t.forward, (40,), t.right, (90,),t.penup, (),  t.forward, (60,), t.right, (90,), t.forward, (40,), t.right, (180,), t.pendown, ()),\\n            (t.forward, (40,), t.left, (135,), t.forward, (20,), t.penup, (),t.left, (180,),t.forward, (20,), t.right, (135,), t.forward, (40,),t.left, (90,), t.forward, (60,), t.pendown, (),t.right, (180,)),\\n            (t.forward, (20,), t.right, (135,), t.forward, (m.sqrt(800),),t.left, (45,), t.forward, (20,),t.left, (90,), t.forward, (20,), t.penup, (),t.left, (180,),t.forward, (20,), t.right, (135,), t.forward, (40,),t.left, (90,), t.forward, (60,), t.pendown, (),t.right, (180,))\\n            ]\\n\\n\\ndef index(num):\\n    command = commands[num]\\n    for i in range(0, len(command), 2):\\n        method = command[i]    \\n        args = command[i+1]   \\n        method(*args)\\n\\nindex(0)\\nindex(1)\\nindex(2)\\nt.done()'"
      ]
     },
     "execution_count": 19,
     "metadata": {},
     "output_type": "execute_result"
    }
   ],
   "source": [
    "'''commands = [(t.forward, (20,), t.right, (90,), t.forward, (40,), t.right, (90,), t.forward, (20,), t.right, (90,), t.forward, (40,), t.right, (90,),t.penup, (),  t.forward, (60,), t.right, (90,), t.forward, (40,), t.right, (180,), t.pendown, ()),\n",
    "            (t.forward, (40,), t.left, (135,), t.forward, (20,), t.penup, (),t.left, (180,),t.forward, (20,), t.right, (135,), t.forward, (40,),t.left, (90,), t.forward, (60,), t.pendown, (),t.right, (180,)),\n",
    "            (t.forward, (20,), t.right, (135,), t.forward, (m.sqrt(800),),t.left, (45,), t.forward, (20,),t.left, (90,), t.forward, (20,), t.penup, (),t.left, (180,),t.forward, (20,), t.right, (135,), t.forward, (40,),t.left, (90,), t.forward, (60,), t.pendown, (),t.right, (180,))\n",
    "            ]\n",
    "\n",
    "\n",
    "def index(num):\n",
    "    command = commands[num]\n",
    "    for i in range(0, len(command), 2):\n",
    "        method = command[i]    \n",
    "        args = command[i+1]   \n",
    "        method(*args)\n",
    "\n",
    "index(0)\n",
    "index(1)\n",
    "index(2)\n",
    "t.done()'''\n"
   ]
  },
  {
   "cell_type": "code",
   "execution_count": 20,
   "id": "1f8a65bb",
   "metadata": {},
   "outputs": [],
   "source": [
    "t.reset()"
   ]
  },
  {
   "cell_type": "markdown",
   "id": "ff7f3258",
   "metadata": {},
   "source": [
    "Упражнение 3"
   ]
  },
  {
   "cell_type": "code",
   "execution_count": 21,
   "id": "009915aa",
   "metadata": {},
   "outputs": [
    {
     "ename": "KeyboardInterrupt",
     "evalue": "",
     "output_type": "error",
     "traceback": [
      "\u001b[31m---------------------------------------------------------------------------\u001b[39m",
      "\u001b[31mKeyboardInterrupt\u001b[39m                         Traceback (most recent call last)",
      "\u001b[36mCell\u001b[39m\u001b[36m \u001b[39m\u001b[32mIn[21]\u001b[39m\u001b[32m, line 10\u001b[39m\n\u001b[32m      7\u001b[39m         \u001b[38;5;28;01mif\u001b[39;00m (t.ycor()<=\u001b[32m0\u001b[39m):\n\u001b[32m      8\u001b[39m             jump(-Vy*\u001b[32m0.9\u001b[39m,Vx,ay,x,y,dt)\n\u001b[32m---> \u001b[39m\u001b[32m10\u001b[39m \u001b[43mjump\u001b[49m\u001b[43m(\u001b[49m\u001b[32;43m30\u001b[39;49m\u001b[43m,\u001b[49m\u001b[32;43m5\u001b[39;49m\u001b[43m,\u001b[49m\u001b[43m-\u001b[49m\u001b[32;43m9.81\u001b[39;49m\u001b[43m,\u001b[49m\u001b[32;43m0\u001b[39;49m\u001b[43m,\u001b[49m\u001b[32;43m0\u001b[39;49m\u001b[43m,\u001b[49m\u001b[32;43m0.1\u001b[39;49m\u001b[43m)\u001b[49m\n",
      "\u001b[36mCell\u001b[39m\u001b[36m \u001b[39m\u001b[32mIn[21]\u001b[39m\u001b[32m, line 8\u001b[39m, in \u001b[36mjump\u001b[39m\u001b[34m(Vy, Vx, ay, x, y, dt)\u001b[39m\n\u001b[32m      6\u001b[39m t.goto(x,y)\n\u001b[32m      7\u001b[39m \u001b[38;5;28;01mif\u001b[39;00m (t.ycor()<=\u001b[32m0\u001b[39m):\n\u001b[32m----> \u001b[39m\u001b[32m8\u001b[39m     \u001b[43mjump\u001b[49m\u001b[43m(\u001b[49m\u001b[43m-\u001b[49m\u001b[43mVy\u001b[49m\u001b[43m*\u001b[49m\u001b[32;43m0.9\u001b[39;49m\u001b[43m,\u001b[49m\u001b[43mVx\u001b[49m\u001b[43m,\u001b[49m\u001b[43may\u001b[49m\u001b[43m,\u001b[49m\u001b[43mx\u001b[49m\u001b[43m,\u001b[49m\u001b[43my\u001b[49m\u001b[43m,\u001b[49m\u001b[43mdt\u001b[49m\u001b[43m)\u001b[49m\n",
      "\u001b[36mCell\u001b[39m\u001b[36m \u001b[39m\u001b[32mIn[21]\u001b[39m\u001b[32m, line 8\u001b[39m, in \u001b[36mjump\u001b[39m\u001b[34m(Vy, Vx, ay, x, y, dt)\u001b[39m\n\u001b[32m      6\u001b[39m t.goto(x,y)\n\u001b[32m      7\u001b[39m \u001b[38;5;28;01mif\u001b[39;00m (t.ycor()<=\u001b[32m0\u001b[39m):\n\u001b[32m----> \u001b[39m\u001b[32m8\u001b[39m     \u001b[43mjump\u001b[49m\u001b[43m(\u001b[49m\u001b[43m-\u001b[49m\u001b[43mVy\u001b[49m\u001b[43m*\u001b[49m\u001b[32;43m0.9\u001b[39;49m\u001b[43m,\u001b[49m\u001b[43mVx\u001b[49m\u001b[43m,\u001b[49m\u001b[43may\u001b[49m\u001b[43m,\u001b[49m\u001b[43mx\u001b[49m\u001b[43m,\u001b[49m\u001b[43my\u001b[49m\u001b[43m,\u001b[49m\u001b[43mdt\u001b[49m\u001b[43m)\u001b[49m\n",
      "\u001b[36mCell\u001b[39m\u001b[36m \u001b[39m\u001b[32mIn[21]\u001b[39m\u001b[32m, line 6\u001b[39m, in \u001b[36mjump\u001b[39m\u001b[34m(Vy, Vx, ay, x, y, dt)\u001b[39m\n\u001b[32m      4\u001b[39m y += Vy*dt + ay*dt**\u001b[32m2\u001b[39m/\u001b[32m2\u001b[39m\n\u001b[32m      5\u001b[39m Vy += ay*dt\n\u001b[32m----> \u001b[39m\u001b[32m6\u001b[39m \u001b[43mt\u001b[49m\u001b[43m.\u001b[49m\u001b[43mgoto\u001b[49m\u001b[43m(\u001b[49m\u001b[43mx\u001b[49m\u001b[43m,\u001b[49m\u001b[43my\u001b[49m\u001b[43m)\u001b[49m\n\u001b[32m      7\u001b[39m \u001b[38;5;28;01mif\u001b[39;00m (t.ycor()<=\u001b[32m0\u001b[39m):\n\u001b[32m      8\u001b[39m     jump(-Vy*\u001b[32m0.9\u001b[39m,Vx,ay,x,y,dt)\n",
      "\u001b[36mFile \u001b[39m\u001b[32m<string>:8\u001b[39m, in \u001b[36mgoto\u001b[39m\u001b[34m(x, y)\u001b[39m\n",
      "\u001b[36mFile \u001b[39m\u001b[32mc:\\Users\\Me\\AppData\\Local\\Programs\\Python\\Python313\\Lib\\turtle.py:1774\u001b[39m, in \u001b[36mTNavigator.goto\u001b[39m\u001b[34m(self, x, y)\u001b[39m\n\u001b[32m   1772\u001b[39m     \u001b[38;5;28mself\u001b[39m._goto(Vec2D(*x))\n\u001b[32m   1773\u001b[39m \u001b[38;5;28;01melse\u001b[39;00m:\n\u001b[32m-> \u001b[39m\u001b[32m1774\u001b[39m     \u001b[38;5;28;43mself\u001b[39;49m\u001b[43m.\u001b[49m\u001b[43m_goto\u001b[49m\u001b[43m(\u001b[49m\u001b[43mVec2D\u001b[49m\u001b[43m(\u001b[49m\u001b[43mx\u001b[49m\u001b[43m,\u001b[49m\u001b[43m \u001b[49m\u001b[43my\u001b[49m\u001b[43m)\u001b[49m\u001b[43m)\u001b[49m\n",
      "\u001b[36mFile \u001b[39m\u001b[32mc:\\Users\\Me\\AppData\\Local\\Programs\\Python\\Python313\\Lib\\turtle.py:3236\u001b[39m, in \u001b[36mRawTurtle._goto\u001b[39m\u001b[34m(self, end)\u001b[39m\n\u001b[32m   3233\u001b[39m \u001b[38;5;28;01mif\u001b[39;00m \u001b[38;5;28mlen\u001b[39m(\u001b[38;5;28mself\u001b[39m.currentLine) > \u001b[32m42\u001b[39m: \u001b[38;5;66;03m# 42! answer to the ultimate question\u001b[39;00m\n\u001b[32m   3234\u001b[39m                                \u001b[38;5;66;03m# of life, the universe and everything\u001b[39;00m\n\u001b[32m   3235\u001b[39m     \u001b[38;5;28mself\u001b[39m._newLine()\n\u001b[32m-> \u001b[39m\u001b[32m3236\u001b[39m \u001b[38;5;28;43mself\u001b[39;49m\u001b[43m.\u001b[49m\u001b[43m_update\u001b[49m\u001b[43m(\u001b[49m\u001b[43m)\u001b[49m\n",
      "\u001b[36mFile \u001b[39m\u001b[32mc:\\Users\\Me\\AppData\\Local\\Programs\\Python\\Python313\\Lib\\turtle.py:2670\u001b[39m, in \u001b[36mRawTurtle._update\u001b[39m\u001b[34m(self)\u001b[39m\n\u001b[32m   2668\u001b[39m     \u001b[38;5;28mself\u001b[39m._drawturtle()\n\u001b[32m   2669\u001b[39m     screen._update()                  \u001b[38;5;66;03m# TurtleScreenBase\u001b[39;00m\n\u001b[32m-> \u001b[39m\u001b[32m2670\u001b[39m     \u001b[43mscreen\u001b[49m\u001b[43m.\u001b[49m\u001b[43m_delay\u001b[49m\u001b[43m(\u001b[49m\u001b[43mscreen\u001b[49m\u001b[43m.\u001b[49m\u001b[43m_delayvalue\u001b[49m\u001b[43m)\u001b[49m \u001b[38;5;66;03m# TurtleScreenBase\u001b[39;00m\n\u001b[32m   2671\u001b[39m \u001b[38;5;28;01melse\u001b[39;00m:\n\u001b[32m   2672\u001b[39m     \u001b[38;5;28mself\u001b[39m._update_data()\n",
      "\u001b[36mFile \u001b[39m\u001b[32mc:\\Users\\Me\\AppData\\Local\\Programs\\Python\\Python313\\Lib\\turtle.py:559\u001b[39m, in \u001b[36mTurtleScreenBase._delay\u001b[39m\u001b[34m(self, delay)\u001b[39m\n\u001b[32m    557\u001b[39m \u001b[38;5;28;01mdef\u001b[39;00m\u001b[38;5;250m \u001b[39m\u001b[34m_delay\u001b[39m(\u001b[38;5;28mself\u001b[39m, delay):\n\u001b[32m    558\u001b[39m \u001b[38;5;250m    \u001b[39m\u001b[33;03m\"\"\"Delay subsequent canvas actions for delay ms.\"\"\"\u001b[39;00m\n\u001b[32m--> \u001b[39m\u001b[32m559\u001b[39m     \u001b[38;5;28;43mself\u001b[39;49m\u001b[43m.\u001b[49m\u001b[43mcv\u001b[49m\u001b[43m.\u001b[49m\u001b[43mafter\u001b[49m\u001b[43m(\u001b[49m\u001b[43mdelay\u001b[49m\u001b[43m)\u001b[49m\n",
      "\u001b[36mFile \u001b[39m\u001b[32mc:\\Users\\Me\\AppData\\Local\\Programs\\Python\\Python313\\Lib\\tkinter\\__init__.py:857\u001b[39m, in \u001b[36mMisc.after\u001b[39m\u001b[34m(self, ms, func, *args)\u001b[39m\n\u001b[32m    849\u001b[39m \u001b[38;5;250m\u001b[39m\u001b[33;03m\"\"\"Call function once after given time.\u001b[39;00m\n\u001b[32m    850\u001b[39m \n\u001b[32m    851\u001b[39m \u001b[33;03mMS specifies the time in milliseconds. FUNC gives the\u001b[39;00m\n\u001b[32m    852\u001b[39m \u001b[33;03mfunction which shall be called. Additional parameters\u001b[39;00m\n\u001b[32m    853\u001b[39m \u001b[33;03mare given as parameters to the function call.  Return\u001b[39;00m\n\u001b[32m    854\u001b[39m \u001b[33;03midentifier to cancel scheduling with after_cancel.\"\"\"\u001b[39;00m\n\u001b[32m    855\u001b[39m \u001b[38;5;28;01mif\u001b[39;00m func \u001b[38;5;129;01mis\u001b[39;00m \u001b[38;5;28;01mNone\u001b[39;00m:\n\u001b[32m    856\u001b[39m     \u001b[38;5;66;03m# I'd rather use time.sleep(ms*0.001)\u001b[39;00m\n\u001b[32m--> \u001b[39m\u001b[32m857\u001b[39m     \u001b[38;5;28;43mself\u001b[39;49m\u001b[43m.\u001b[49m\u001b[43mtk\u001b[49m\u001b[43m.\u001b[49m\u001b[43mcall\u001b[49m\u001b[43m(\u001b[49m\u001b[33;43m'\u001b[39;49m\u001b[33;43mafter\u001b[39;49m\u001b[33;43m'\u001b[39;49m\u001b[43m,\u001b[49m\u001b[43m \u001b[49m\u001b[43mms\u001b[49m\u001b[43m)\u001b[49m\n\u001b[32m    858\u001b[39m     \u001b[38;5;28;01mreturn\u001b[39;00m \u001b[38;5;28;01mNone\u001b[39;00m\n\u001b[32m    859\u001b[39m \u001b[38;5;28;01melse\u001b[39;00m:\n",
      "\u001b[31mKeyboardInterrupt\u001b[39m: "
     ]
    }
   ],
   "source": [
    "\n",
    "def jump(Vy,Vx,ay,x,y,dt):\n",
    "    for i in range(150):\n",
    "        x += Vx*dt\n",
    "        y += Vy*dt + ay*dt**2/2\n",
    "        Vy += ay*dt\n",
    "        t.goto(x,y)\n",
    "        if (t.ycor()<=0):\n",
    "            jump(-Vy*0.9,Vx,ay,x,y,dt)\n",
    "\n",
    "jump(30,5,-9.81,0,0,0.1)"
   ]
  },
  {
   "cell_type": "code",
   "execution_count": 25,
   "id": "4b378738",
   "metadata": {},
   "outputs": [],
   "source": [
    "t.reset()\n"
   ]
  },
  {
   "cell_type": "code",
   "execution_count": null,
   "id": "11682fb3",
   "metadata": {},
   "outputs": [
    {
     "ename": "TclError",
     "evalue": "invalid command name \".!canvas\"",
     "output_type": "error",
     "traceback": [
      "\u001b[31m---------------------------------------------------------------------------\u001b[39m",
      "\u001b[31mTclError\u001b[39m                                  Traceback (most recent call last)",
      "\u001b[36mCell\u001b[39m\u001b[36m \u001b[39m\u001b[32mIn[26]\u001b[39m\u001b[32m, line 15\u001b[39m\n\u001b[32m     13\u001b[39m \u001b[38;5;28;01mfor\u001b[39;00m i \u001b[38;5;129;01min\u001b[39;00m \u001b[38;5;28mrange\u001b[39m(steps_of_time_number):\n\u001b[32m     14\u001b[39m     \u001b[38;5;28;01mfor\u001b[39;00m unit \u001b[38;5;129;01min\u001b[39;00m pool:\n\u001b[32m---> \u001b[39m\u001b[32m15\u001b[39m         \u001b[43munit\u001b[49m\u001b[43m.\u001b[49m\u001b[43mforward\u001b[49m\u001b[43m(\u001b[49m\u001b[32;43m2\u001b[39;49m\u001b[43m)\u001b[49m\n\u001b[32m     16\u001b[39m         \u001b[38;5;28;01mif\u001b[39;00m unit.xcor() >\u001b[32m300\u001b[39m \u001b[38;5;129;01mor\u001b[39;00m unit.xcor() <-\u001b[32m300\u001b[39m \u001b[38;5;129;01mor\u001b[39;00m unit.ycor() >\u001b[32m300\u001b[39m \u001b[38;5;129;01mor\u001b[39;00m unit.ycor() <-\u001b[32m300\u001b[39m:\n\u001b[32m     18\u001b[39m             unit.setheading(\u001b[32m180\u001b[39m - unit.heading()) \n",
      "\u001b[36mFile \u001b[39m\u001b[32mc:\\Users\\Me\\AppData\\Local\\Programs\\Python\\Python313\\Lib\\turtle.py:1635\u001b[39m, in \u001b[36mTNavigator.forward\u001b[39m\u001b[34m(self, distance)\u001b[39m\n\u001b[32m   1614\u001b[39m \u001b[38;5;28;01mdef\u001b[39;00m\u001b[38;5;250m \u001b[39m\u001b[34mforward\u001b[39m(\u001b[38;5;28mself\u001b[39m, distance):\n\u001b[32m   1615\u001b[39m \u001b[38;5;250m    \u001b[39m\u001b[33;03m\"\"\"Move the turtle forward by the specified distance.\u001b[39;00m\n\u001b[32m   1616\u001b[39m \n\u001b[32m   1617\u001b[39m \u001b[33;03m    Aliases: forward | fd\u001b[39;00m\n\u001b[32m   (...)\u001b[39m\u001b[32m   1633\u001b[39m \u001b[33;03m    (-50.00,0.00)\u001b[39;00m\n\u001b[32m   1634\u001b[39m \u001b[33;03m    \"\"\"\u001b[39;00m\n\u001b[32m-> \u001b[39m\u001b[32m1635\u001b[39m     \u001b[38;5;28;43mself\u001b[39;49m\u001b[43m.\u001b[49m\u001b[43m_go\u001b[49m\u001b[43m(\u001b[49m\u001b[43mdistance\u001b[49m\u001b[43m)\u001b[49m\n",
      "\u001b[36mFile \u001b[39m\u001b[32mc:\\Users\\Me\\AppData\\Local\\Programs\\Python\\Python313\\Lib\\turtle.py:1596\u001b[39m, in \u001b[36mTNavigator._go\u001b[39m\u001b[34m(self, distance)\u001b[39m\n\u001b[32m   1594\u001b[39m \u001b[38;5;250m\u001b[39m\u001b[33;03m\"\"\"move turtle forward by specified distance\"\"\"\u001b[39;00m\n\u001b[32m   1595\u001b[39m ende = \u001b[38;5;28mself\u001b[39m._position + \u001b[38;5;28mself\u001b[39m._orient * distance\n\u001b[32m-> \u001b[39m\u001b[32m1596\u001b[39m \u001b[38;5;28;43mself\u001b[39;49m\u001b[43m.\u001b[49m\u001b[43m_goto\u001b[49m\u001b[43m(\u001b[49m\u001b[43mende\u001b[49m\u001b[43m)\u001b[49m\n",
      "\u001b[36mFile \u001b[39m\u001b[32mc:\\Users\\Me\\AppData\\Local\\Programs\\Python\\Python313\\Lib\\turtle.py:3199\u001b[39m, in \u001b[36mRawTurtle._goto\u001b[39m\u001b[34m(self, end)\u001b[39m\n\u001b[32m   3191\u001b[39m go_modes = ( \u001b[38;5;28mself\u001b[39m._drawing,\n\u001b[32m   3192\u001b[39m              \u001b[38;5;28mself\u001b[39m._pencolor,\n\u001b[32m   3193\u001b[39m              \u001b[38;5;28mself\u001b[39m._pensize,\n\u001b[32m   3194\u001b[39m              \u001b[38;5;28misinstance\u001b[39m(\u001b[38;5;28mself\u001b[39m._fillpath, \u001b[38;5;28mlist\u001b[39m))\n\u001b[32m   3195\u001b[39m screen = \u001b[38;5;28mself\u001b[39m.screen\n\u001b[32m   3196\u001b[39m undo_entry = (\u001b[33m\"\u001b[39m\u001b[33mgo\u001b[39m\u001b[33m\"\u001b[39m, \u001b[38;5;28mself\u001b[39m._position, end, go_modes,\n\u001b[32m   3197\u001b[39m               (\u001b[38;5;28mself\u001b[39m.currentLineItem,\n\u001b[32m   3198\u001b[39m               \u001b[38;5;28mself\u001b[39m.currentLine[:],\n\u001b[32m-> \u001b[39m\u001b[32m3199\u001b[39m               \u001b[43mscreen\u001b[49m\u001b[43m.\u001b[49m\u001b[43m_pointlist\u001b[49m\u001b[43m(\u001b[49m\u001b[38;5;28;43mself\u001b[39;49m\u001b[43m.\u001b[49m\u001b[43mcurrentLineItem\u001b[49m\u001b[43m)\u001b[49m,\n\u001b[32m   3200\u001b[39m               \u001b[38;5;28mself\u001b[39m.items[:])\n\u001b[32m   3201\u001b[39m               )\n\u001b[32m   3202\u001b[39m \u001b[38;5;28;01mif\u001b[39;00m \u001b[38;5;28mself\u001b[39m.undobuffer:\n\u001b[32m   3203\u001b[39m     \u001b[38;5;28mself\u001b[39m.undobuffer.push(undo_entry)\n",
      "\u001b[36mFile \u001b[39m\u001b[32mc:\\Users\\Me\\AppData\\Local\\Programs\\Python\\Python313\\Lib\\turtle.py:744\u001b[39m, in \u001b[36mTurtleScreenBase._pointlist\u001b[39m\u001b[34m(self, item)\u001b[39m\n\u001b[32m    736\u001b[39m \u001b[38;5;28;01mdef\u001b[39;00m\u001b[38;5;250m \u001b[39m\u001b[34m_pointlist\u001b[39m(\u001b[38;5;28mself\u001b[39m, item):\n\u001b[32m    737\u001b[39m \u001b[38;5;250m    \u001b[39m\u001b[33;03m\"\"\"returns list of coordinate-pairs of points of item\u001b[39;00m\n\u001b[32m    738\u001b[39m \u001b[33;03m    Example (for insiders):\u001b[39;00m\n\u001b[32m    739\u001b[39m \u001b[33;03m    >>> from turtle import *\u001b[39;00m\n\u001b[32m   (...)\u001b[39m\u001b[32m    742\u001b[39m \u001b[33;03m    (9.9999999999999982, 0.0)]\u001b[39;00m\n\u001b[32m    743\u001b[39m \u001b[33;03m    >>> \"\"\"\u001b[39;00m\n\u001b[32m--> \u001b[39m\u001b[32m744\u001b[39m     cl = \u001b[38;5;28;43mself\u001b[39;49m\u001b[43m.\u001b[49m\u001b[43mcv\u001b[49m\u001b[43m.\u001b[49m\u001b[43mcoords\u001b[49m\u001b[43m(\u001b[49m\u001b[43mitem\u001b[49m\u001b[43m)\u001b[49m\n\u001b[32m    745\u001b[39m     pl = [(cl[i], -cl[i+\u001b[32m1\u001b[39m]) \u001b[38;5;28;01mfor\u001b[39;00m i \u001b[38;5;129;01min\u001b[39;00m \u001b[38;5;28mrange\u001b[39m(\u001b[32m0\u001b[39m, \u001b[38;5;28mlen\u001b[39m(cl), \u001b[32m2\u001b[39m)]\n\u001b[32m    746\u001b[39m     \u001b[38;5;28;01mreturn\u001b[39;00m  pl\n",
      "\u001b[36mFile \u001b[39m\u001b[32m<string>:1\u001b[39m, in \u001b[36mcoords\u001b[39m\u001b[34m(self, *args, **kw)\u001b[39m\n",
      "\u001b[36mFile \u001b[39m\u001b[32mc:\\Users\\Me\\AppData\\Local\\Programs\\Python\\Python313\\Lib\\tkinter\\__init__.py:2966\u001b[39m, in \u001b[36mCanvas.coords\u001b[39m\u001b[34m(self, *args)\u001b[39m\n\u001b[32m   2962\u001b[39m \u001b[38;5;250m\u001b[39m\u001b[33;03m\"\"\"Return a list of coordinates for the item given in ARGS.\"\"\"\u001b[39;00m\n\u001b[32m   2963\u001b[39m args = _flatten(args)\n\u001b[32m   2964\u001b[39m \u001b[38;5;28;01mreturn\u001b[39;00m [\u001b[38;5;28mself\u001b[39m.tk.getdouble(x) \u001b[38;5;28;01mfor\u001b[39;00m x \u001b[38;5;129;01min\u001b[39;00m\n\u001b[32m   2965\u001b[39m                    \u001b[38;5;28mself\u001b[39m.tk.splitlist(\n\u001b[32m-> \u001b[39m\u001b[32m2966\u001b[39m            \u001b[38;5;28;43mself\u001b[39;49m\u001b[43m.\u001b[49m\u001b[43mtk\u001b[49m\u001b[43m.\u001b[49m\u001b[43mcall\u001b[49m\u001b[43m(\u001b[49m\u001b[43m(\u001b[49m\u001b[38;5;28;43mself\u001b[39;49m\u001b[43m.\u001b[49m\u001b[43m_w\u001b[49m\u001b[43m,\u001b[49m\u001b[43m \u001b[49m\u001b[33;43m'\u001b[39;49m\u001b[33;43mcoords\u001b[39;49m\u001b[33;43m'\u001b[39;49m\u001b[43m)\u001b[49m\u001b[43m \u001b[49m\u001b[43m+\u001b[49m\u001b[43m \u001b[49m\u001b[43margs\u001b[49m\u001b[43m)\u001b[49m)]\n",
      "\u001b[31mTclError\u001b[39m: invalid command name \".!canvas\""
     ]
    }
   ],
   "source": [
    "number_of_turtles = 30\n",
    "steps_of_time_number = 10000\n",
    "\n",
    "t.tracer(False)\n",
    "pool = [t.Turtle(shape='turtle') for i in range(number_of_turtles)]\n",
    "for unit in pool:\n",
    "    unit.penup()\n",
    "    #unit.speed(100)\n",
    "    unit.goto(randint(-200, 200), randint(-200, 200))\n",
    "    unit.left(randint(0,360))\n",
    "\n",
    "\n",
    "for i in range(steps_of_time_number):\n",
    "    for unit in pool:\n",
    "        unit.forward(2)\n",
    "        if unit.xcor() >300 or unit.xcor() <-300 :\n",
    "            \n",
    "            unit.setheading(180 - unit.heading()) \n",
    "        if unit.ycor() >300 or unit.ycor() <-300:\n",
    "            unit.setheading(- unit.heading())\n",
    "    t.update()\n"
   ]
  },
  {
   "cell_type": "code",
   "execution_count": null,
   "id": "577f5ea7",
   "metadata": {},
   "outputs": [],
   "source": [
    "for unit in pool:\n",
    "    unit.reset()"
   ]
  }
 ],
 "metadata": {
  "kernelspec": {
   "display_name": "Python 3",
   "language": "python",
   "name": "python3"
  },
  "language_info": {
   "codemirror_mode": {
    "name": "ipython",
    "version": 3
   },
   "file_extension": ".py",
   "mimetype": "text/x-python",
   "name": "python",
   "nbconvert_exporter": "python",
   "pygments_lexer": "ipython3",
   "version": "3.13.2"
  }
 },
 "nbformat": 4,
 "nbformat_minor": 5
}
