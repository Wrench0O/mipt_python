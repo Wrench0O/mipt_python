{
 "cells": [
  {
   "cell_type": "code",
   "execution_count": 2,
   "id": "9574012d",
   "metadata": {},
   "outputs": [],
   "source": [
    "import turtle\n",
    "import math"
   ]
  },
  {
   "cell_type": "code",
   "execution_count": 3,
   "id": "80aff3c5",
   "metadata": {},
   "outputs": [
    {
     "name": "stdout",
     "output_type": "stream",
     "text": [
      "Help on function shape in module turtle:\n",
      "\n",
      "shape(name=None)\n",
      "    Set turtle shape to shape with given name / return current shapename.\n",
      "\n",
      "    Optional argument:\n",
      "    name -- a string, which is a valid shapename\n",
      "\n",
      "    Set turtle shape to shape with given name or, if name is not given,\n",
      "    return name of current shape.\n",
      "    Shape with name must exist in the TurtleScreen's shape dictionary.\n",
      "    Initially there are the following polygon shapes:\n",
      "    'arrow', 'turtle', 'circle', 'square', 'triangle', 'classic'.\n",
      "    To learn about how to deal with shapes see Screen-method register_shape.\n",
      "\n",
      "    Example:\n",
      "    >>> shape()\n",
      "    'arrow'\n",
      "    >>> shape(\"turtle\")\n",
      "    >>> shape()\n",
      "    'turtle'\n",
      "\n"
     ]
    }
   ],
   "source": [
    "help(turtle.shape)"
   ]
  },
  {
   "cell_type": "markdown",
   "id": "27ce87ff",
   "metadata": {},
   "source": [
    "Упр 2"
   ]
  },
  {
   "cell_type": "code",
   "execution_count": null,
   "id": "9753b383",
   "metadata": {},
   "outputs": [],
   "source": [
    "turtle.speed(0)\n",
    "turtle.shape('turtle')\n",
    "turtle.color(\"black\",\"yellow\")\n",
    "turtle.forward(50)\n",
    "turtle.left(90)\n",
    "turtle.forward(50)\n",
    "turtle.left(90)\n",
    "turtle.forward(50)\n",
    "turtle.right(90)\n",
    "turtle.forward(50)\n",
    "turtle.right(90)\n",
    "turtle.forward(50)"
   ]
  },
  {
   "cell_type": "markdown",
   "id": "637a26f3",
   "metadata": {},
   "source": [
    "Упр 3"
   ]
  },
  {
   "cell_type": "code",
   "execution_count": null,
   "id": "f202680c",
   "metadata": {},
   "outputs": [],
   "source": [
    "turtle.reset()\n",
    "for i in range (4):\n",
    "    turtle.forward(100)\n",
    "    turtle.left(90)"
   ]
  },
  {
   "cell_type": "markdown",
   "id": "e05eb8f4",
   "metadata": {},
   "source": [
    "Упр 4"
   ]
  },
  {
   "cell_type": "code",
   "execution_count": null,
   "id": "62f73d65",
   "metadata": {},
   "outputs": [],
   "source": [
    "turtle.reset()\n",
    "for i in range (360):\n",
    "    turtle.forward(2)\n",
    "    turtle.left(1)"
   ]
  },
  {
   "cell_type": "markdown",
   "id": "079a36ed",
   "metadata": {},
   "source": [
    "Упр 5"
   ]
  },
  {
   "cell_type": "code",
   "execution_count": 18,
   "id": "8206d803",
   "metadata": {},
   "outputs": [],
   "source": [
    "turtle.reset()\n",
    "for i in range (10):\n",
    "    for j in range (4):\n",
    "        turtle.forward(10 +10*i)\n",
    "        turtle.left(90)\n",
    "    turtle.penup()\n",
    "    turtle.right(90)\n",
    "    turtle.forward(5)\n",
    "    turtle.right(90)\n",
    "    turtle.forward(5)\n",
    "    turtle.pendown()\n",
    "    turtle.right(180)"
   ]
  },
  {
   "cell_type": "markdown",
   "id": "149f9d69",
   "metadata": {},
   "source": [
    "Упр 6"
   ]
  },
  {
   "cell_type": "code",
   "execution_count": 20,
   "id": "6a4fb09a",
   "metadata": {},
   "outputs": [],
   "source": [
    "turtle.reset()\n",
    "for i in range (12):\n",
    "    turtle.forward(100)\n",
    "    turtle.right(180)\n",
    "    turtle.forward(100)\n",
    "    turtle.right(150)"
   ]
  },
  {
   "cell_type": "markdown",
   "id": "65c58d98",
   "metadata": {},
   "source": [
    "Упр 7"
   ]
  },
  {
   "cell_type": "code",
   "execution_count": null,
   "id": "8d339ad5",
   "metadata": {},
   "outputs": [
    {
     "ename": "KeyboardInterrupt",
     "evalue": "",
     "output_type": "error",
     "traceback": [
      "\u001b[31m---------------------------------------------------------------------------\u001b[39m",
      "\u001b[31mKeyboardInterrupt\u001b[39m                         Traceback (most recent call last)",
      "\u001b[36mCell\u001b[39m\u001b[36m \u001b[39m\u001b[32mIn[45]\u001b[39m\u001b[32m, line 3\u001b[39m\n\u001b[32m      1\u001b[39m turtle.reset()\n\u001b[32m      2\u001b[39m \u001b[38;5;28;01mfor\u001b[39;00m i \u001b[38;5;129;01min\u001b[39;00m \u001b[38;5;28mrange\u001b[39m (\u001b[32m360\u001b[39m):\n\u001b[32m----> \u001b[39m\u001b[32m3\u001b[39m     \u001b[43mturtle\u001b[49m\u001b[43m.\u001b[49m\u001b[43mforward\u001b[49m\u001b[43m(\u001b[49m\u001b[43mi\u001b[49m\u001b[43m/\u001b[49m\u001b[43m/\u001b[49m\u001b[32;43m10\u001b[39;49m\u001b[43m)\u001b[49m\n\u001b[32m      4\u001b[39m     turtle.left(\u001b[32m10\u001b[39m)\n",
      "\u001b[36mFile \u001b[39m\u001b[32m<string>:8\u001b[39m, in \u001b[36mforward\u001b[39m\u001b[34m(distance)\u001b[39m\n",
      "\u001b[36mFile \u001b[39m\u001b[32mc:\\Users\\Me\\AppData\\Local\\Programs\\Python\\Python313\\Lib\\turtle.py:1635\u001b[39m, in \u001b[36mTNavigator.forward\u001b[39m\u001b[34m(self, distance)\u001b[39m\n\u001b[32m   1614\u001b[39m \u001b[38;5;28;01mdef\u001b[39;00m\u001b[38;5;250m \u001b[39m\u001b[34mforward\u001b[39m(\u001b[38;5;28mself\u001b[39m, distance):\n\u001b[32m   1615\u001b[39m \u001b[38;5;250m    \u001b[39m\u001b[33;03m\"\"\"Move the turtle forward by the specified distance.\u001b[39;00m\n\u001b[32m   1616\u001b[39m \n\u001b[32m   1617\u001b[39m \u001b[33;03m    Aliases: forward | fd\u001b[39;00m\n\u001b[32m   (...)\u001b[39m\u001b[32m   1633\u001b[39m \u001b[33;03m    (-50.00,0.00)\u001b[39;00m\n\u001b[32m   1634\u001b[39m \u001b[33;03m    \"\"\"\u001b[39;00m\n\u001b[32m-> \u001b[39m\u001b[32m1635\u001b[39m     \u001b[38;5;28;43mself\u001b[39;49m\u001b[43m.\u001b[49m\u001b[43m_go\u001b[49m\u001b[43m(\u001b[49m\u001b[43mdistance\u001b[49m\u001b[43m)\u001b[49m\n",
      "\u001b[36mFile \u001b[39m\u001b[32mc:\\Users\\Me\\AppData\\Local\\Programs\\Python\\Python313\\Lib\\turtle.py:1596\u001b[39m, in \u001b[36mTNavigator._go\u001b[39m\u001b[34m(self, distance)\u001b[39m\n\u001b[32m   1594\u001b[39m \u001b[38;5;250m\u001b[39m\u001b[33;03m\"\"\"move turtle forward by specified distance\"\"\"\u001b[39;00m\n\u001b[32m   1595\u001b[39m ende = \u001b[38;5;28mself\u001b[39m._position + \u001b[38;5;28mself\u001b[39m._orient * distance\n\u001b[32m-> \u001b[39m\u001b[32m1596\u001b[39m \u001b[38;5;28;43mself\u001b[39;49m\u001b[43m.\u001b[49m\u001b[43m_goto\u001b[49m\u001b[43m(\u001b[49m\u001b[43mende\u001b[49m\u001b[43m)\u001b[49m\n",
      "\u001b[36mFile \u001b[39m\u001b[32mc:\\Users\\Me\\AppData\\Local\\Programs\\Python\\Python313\\Lib\\turtle.py:3220\u001b[39m, in \u001b[36mRawTurtle._goto\u001b[39m\u001b[34m(self, end)\u001b[39m\n\u001b[32m   3216\u001b[39m     \u001b[38;5;28;01mif\u001b[39;00m \u001b[38;5;28mself\u001b[39m._drawing:\n\u001b[32m   3217\u001b[39m         screen._drawline(\u001b[38;5;28mself\u001b[39m.drawingLineItem,\n\u001b[32m   3218\u001b[39m                          (start, \u001b[38;5;28mself\u001b[39m._position),\n\u001b[32m   3219\u001b[39m                          \u001b[38;5;28mself\u001b[39m._pencolor, \u001b[38;5;28mself\u001b[39m._pensize, top)\n\u001b[32m-> \u001b[39m\u001b[32m3220\u001b[39m     \u001b[38;5;28;43mself\u001b[39;49m\u001b[43m.\u001b[49m\u001b[43m_update\u001b[49m\u001b[43m(\u001b[49m\u001b[43m)\u001b[49m\n\u001b[32m   3221\u001b[39m \u001b[38;5;28;01mif\u001b[39;00m \u001b[38;5;28mself\u001b[39m._drawing:\n\u001b[32m   3222\u001b[39m     screen._drawline(\u001b[38;5;28mself\u001b[39m.drawingLineItem, ((\u001b[32m0\u001b[39m, \u001b[32m0\u001b[39m), (\u001b[32m0\u001b[39m, \u001b[32m0\u001b[39m)),\n\u001b[32m   3223\u001b[39m                                    fill=\u001b[33m\"\u001b[39m\u001b[33m\"\u001b[39m, width=\u001b[38;5;28mself\u001b[39m._pensize)\n",
      "\u001b[36mFile \u001b[39m\u001b[32mc:\\Users\\Me\\AppData\\Local\\Programs\\Python\\Python313\\Lib\\turtle.py:2670\u001b[39m, in \u001b[36mRawTurtle._update\u001b[39m\u001b[34m(self)\u001b[39m\n\u001b[32m   2668\u001b[39m     \u001b[38;5;28mself\u001b[39m._drawturtle()\n\u001b[32m   2669\u001b[39m     screen._update()                  \u001b[38;5;66;03m# TurtleScreenBase\u001b[39;00m\n\u001b[32m-> \u001b[39m\u001b[32m2670\u001b[39m     \u001b[43mscreen\u001b[49m\u001b[43m.\u001b[49m\u001b[43m_delay\u001b[49m\u001b[43m(\u001b[49m\u001b[43mscreen\u001b[49m\u001b[43m.\u001b[49m\u001b[43m_delayvalue\u001b[49m\u001b[43m)\u001b[49m \u001b[38;5;66;03m# TurtleScreenBase\u001b[39;00m\n\u001b[32m   2671\u001b[39m \u001b[38;5;28;01melse\u001b[39;00m:\n\u001b[32m   2672\u001b[39m     \u001b[38;5;28mself\u001b[39m._update_data()\n",
      "\u001b[36mFile \u001b[39m\u001b[32mc:\\Users\\Me\\AppData\\Local\\Programs\\Python\\Python313\\Lib\\turtle.py:559\u001b[39m, in \u001b[36mTurtleScreenBase._delay\u001b[39m\u001b[34m(self, delay)\u001b[39m\n\u001b[32m    557\u001b[39m \u001b[38;5;28;01mdef\u001b[39;00m\u001b[38;5;250m \u001b[39m\u001b[34m_delay\u001b[39m(\u001b[38;5;28mself\u001b[39m, delay):\n\u001b[32m    558\u001b[39m \u001b[38;5;250m    \u001b[39m\u001b[33;03m\"\"\"Delay subsequent canvas actions for delay ms.\"\"\"\u001b[39;00m\n\u001b[32m--> \u001b[39m\u001b[32m559\u001b[39m     \u001b[38;5;28;43mself\u001b[39;49m\u001b[43m.\u001b[49m\u001b[43mcv\u001b[49m\u001b[43m.\u001b[49m\u001b[43mafter\u001b[49m\u001b[43m(\u001b[49m\u001b[43mdelay\u001b[49m\u001b[43m)\u001b[49m\n",
      "\u001b[36mFile \u001b[39m\u001b[32mc:\\Users\\Me\\AppData\\Local\\Programs\\Python\\Python313\\Lib\\tkinter\\__init__.py:857\u001b[39m, in \u001b[36mMisc.after\u001b[39m\u001b[34m(self, ms, func, *args)\u001b[39m\n\u001b[32m    849\u001b[39m \u001b[38;5;250m\u001b[39m\u001b[33;03m\"\"\"Call function once after given time.\u001b[39;00m\n\u001b[32m    850\u001b[39m \n\u001b[32m    851\u001b[39m \u001b[33;03mMS specifies the time in milliseconds. FUNC gives the\u001b[39;00m\n\u001b[32m    852\u001b[39m \u001b[33;03mfunction which shall be called. Additional parameters\u001b[39;00m\n\u001b[32m    853\u001b[39m \u001b[33;03mare given as parameters to the function call.  Return\u001b[39;00m\n\u001b[32m    854\u001b[39m \u001b[33;03midentifier to cancel scheduling with after_cancel.\"\"\"\u001b[39;00m\n\u001b[32m    855\u001b[39m \u001b[38;5;28;01mif\u001b[39;00m func \u001b[38;5;129;01mis\u001b[39;00m \u001b[38;5;28;01mNone\u001b[39;00m:\n\u001b[32m    856\u001b[39m     \u001b[38;5;66;03m# I'd rather use time.sleep(ms*0.001)\u001b[39;00m\n\u001b[32m--> \u001b[39m\u001b[32m857\u001b[39m     \u001b[38;5;28;43mself\u001b[39;49m\u001b[43m.\u001b[49m\u001b[43mtk\u001b[49m\u001b[43m.\u001b[49m\u001b[43mcall\u001b[49m\u001b[43m(\u001b[49m\u001b[33;43m'\u001b[39;49m\u001b[33;43mafter\u001b[39;49m\u001b[33;43m'\u001b[39;49m\u001b[43m,\u001b[49m\u001b[43m \u001b[49m\u001b[43mms\u001b[49m\u001b[43m)\u001b[49m\n\u001b[32m    858\u001b[39m     \u001b[38;5;28;01mreturn\u001b[39;00m \u001b[38;5;28;01mNone\u001b[39;00m\n\u001b[32m    859\u001b[39m \u001b[38;5;28;01melse\u001b[39;00m:\n",
      "\u001b[31mKeyboardInterrupt\u001b[39m: "
     ]
    }
   ],
   "source": [
    "turtle.reset()\n",
    "for i in range(50):\n",
    "    turtle.forward(i//10)\n",
    "    turtle.left(10)\n",
    "    "
   ]
  },
  {
   "cell_type": "markdown",
   "id": "f9bbc4a2",
   "metadata": {},
   "source": [
    "Упр 8"
   ]
  },
  {
   "cell_type": "code",
   "execution_count": 47,
   "id": "80a24499",
   "metadata": {},
   "outputs": [],
   "source": [
    "turtle.reset()\n",
    "for i in range(50):\n",
    "    turtle.forward(i*2)\n",
    "    turtle.left(90)"
   ]
  },
  {
   "cell_type": "markdown",
   "id": "d415fe71",
   "metadata": {},
   "source": [
    "Упр 9"
   ]
  },
  {
   "cell_type": "code",
   "execution_count": 78,
   "id": "8b3564fe",
   "metadata": {},
   "outputs": [],
   "source": [
    "def nugolnik(n):\n",
    "    for i in range(n):\n",
    "        turtle.forward(n*6+10)\n",
    "        turtle.left(360/n)\n",
    "turtle.reset()\n",
    "for i in range(3,13):\n",
    "    nugolnik(i)\n",
    "    turtle.penup()\n",
    "    turtle.right(360/i)\n",
    "    turtle.forward(i*3)\n",
    "    turtle.left(360/i)\n",
    "    turtle.pendown()\n"
   ]
  },
  {
   "cell_type": "markdown",
   "id": "b0ec58ca",
   "metadata": {},
   "source": [
    "Упр 10"
   ]
  },
  {
   "cell_type": "code",
   "execution_count": 96,
   "id": "fa65ce3a",
   "metadata": {},
   "outputs": [],
   "source": [
    "turtle.reset()\n",
    "def cicle(n):\n",
    "    for i in range (30):\n",
    "        turtle.forward(n)\n",
    "        turtle.left(12)\n",
    "for i in range(6):\n",
    "    cicle(10)\n",
    "    turtle.left(60)"
   ]
  },
  {
   "cell_type": "markdown",
   "id": "850e3f7c",
   "metadata": {},
   "source": [
    "Упр 11"
   ]
  },
  {
   "cell_type": "code",
   "execution_count": 92,
   "id": "c340b7f6",
   "metadata": {},
   "outputs": [],
   "source": [
    "turtle.reset()\n",
    "def cicle(n):\n",
    "    for i in range (60):\n",
    "        turtle.forward(n)\n",
    "        turtle.left(6)\n",
    "for i in range(6):\n",
    "    cicle(2+i//2)\n",
    "    turtle.left(180)"
   ]
  },
  {
   "cell_type": "markdown",
   "id": "7122c4a7",
   "metadata": {},
   "source": [
    "Упр 12"
   ]
  },
  {
   "cell_type": "code",
   "execution_count": 102,
   "id": "c8717396",
   "metadata": {},
   "outputs": [],
   "source": [
    "turtle.reset()\n",
    "def uncicle(n,l):\n",
    "    for i in range (n//5):\n",
    "        turtle.forward(l)\n",
    "        turtle.left(5)\n",
    "turtle.left(90)\n",
    "for i in range(4):\n",
    "    uncicle(180,5)\n",
    "    uncicle(180,1)"
   ]
  },
  {
   "cell_type": "markdown",
   "id": "0b77b4da",
   "metadata": {},
   "source": [
    "Упр 13"
   ]
  },
  {
   "cell_type": "code",
   "execution_count": null,
   "id": "cb13f1da",
   "metadata": {},
   "outputs": [],
   "source": [
    "turtle.reset()\n",
    "turtle.fillcolor(\"yellow\")\n",
    "turtle.begin_fill()\n",
    "cicle(30)\n",
    "turtle.end_fill()\n",
    "\n",
    "turtle.penup()\n",
    "turtle.goto(80,200)\n",
    "turtle.fillcolor(\"blue\")\n",
    "turtle.pendown()\n",
    "turtle.begin_fill()\n",
    "cicle(5)\n",
    "turtle.end_fill()\n",
    "\n",
    "turtle.penup()\n",
    "turtle.goto(-80,200)\n",
    "turtle.fillcolor(\"blue\")\n",
    "turtle.pendown()\n",
    "turtle.begin_fill()\n",
    "cicle(5)\n",
    "turtle.end_fill()\n"
   ]
  },
  {
   "cell_type": "markdown",
   "id": "5253bccf",
   "metadata": {},
   "source": [
    "Упр 14"
   ]
  },
  {
   "cell_type": "code",
   "execution_count": 97,
   "id": "d129dc4a",
   "metadata": {},
   "outputs": [],
   "source": [
    "turtle.reset()\n",
    "def star(n):\n",
    "    for i in range (n):\n",
    "        turtle.forward(100)\n",
    "        turtle.left(180-180/n)\n",
    "star(11)"
   ]
  }
 ],
 "metadata": {
  "kernelspec": {
   "display_name": "Python 3",
   "language": "python",
   "name": "python3"
  },
  "language_info": {
   "codemirror_mode": {
    "name": "ipython",
    "version": 3
   },
   "file_extension": ".py",
   "mimetype": "text/x-python",
   "name": "python",
   "nbconvert_exporter": "python",
   "pygments_lexer": "ipython3",
   "version": "3.13.2"
  }
 },
 "nbformat": 4,
 "nbformat_minor": 5
}
