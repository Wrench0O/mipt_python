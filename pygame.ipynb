{
 "cells": [
  {
   "cell_type": "code",
   "execution_count": 2,
   "id": "d9de3394",
   "metadata": {},
   "outputs": [
    {
     "name": "stdout",
     "output_type": "stream",
     "text": [
      "Collecting pygame\n",
      "  Downloading pygame-2.6.1-cp313-cp313-win_amd64.whl.metadata (13 kB)\n",
      "Downloading pygame-2.6.1-cp313-cp313-win_amd64.whl (10.6 MB)\n",
      "   ---------------------------------------- 0.0/10.6 MB ? eta -:--:--\n",
      "   ---------------------------------------- 0.0/10.6 MB ? eta -:--:--\n",
      "    --------------------------------------- 0.3/10.6 MB ? eta -:--:--\n",
      "   -- ------------------------------------- 0.8/10.6 MB 1.6 MB/s eta 0:00:07\n",
      "   --- ------------------------------------ 1.0/10.6 MB 1.9 MB/s eta 0:00:06\n",
      "   ---- ----------------------------------- 1.3/10.6 MB 1.6 MB/s eta 0:00:06\n",
      "   ------ --------------------------------- 1.8/10.6 MB 1.8 MB/s eta 0:00:05\n",
      "   ------ --------------------------------- 1.8/10.6 MB 1.8 MB/s eta 0:00:05\n",
      "   ------- -------------------------------- 2.1/10.6 MB 1.4 MB/s eta 0:00:06\n",
      "   -------- ------------------------------- 2.4/10.6 MB 1.5 MB/s eta 0:00:06\n",
      "   --------- ------------------------------ 2.6/10.6 MB 1.5 MB/s eta 0:00:06\n",
      "   ----------- ---------------------------- 3.1/10.6 MB 1.5 MB/s eta 0:00:06\n",
      "   ----------- ---------------------------- 3.1/10.6 MB 1.5 MB/s eta 0:00:06\n",
      "   ------------ --------------------------- 3.4/10.6 MB 1.4 MB/s eta 0:00:06\n",
      "   ------------- -------------------------- 3.7/10.6 MB 1.4 MB/s eta 0:00:05\n",
      "   --------------- ------------------------ 4.2/10.6 MB 1.4 MB/s eta 0:00:05\n",
      "   ---------------- ----------------------- 4.5/10.6 MB 1.5 MB/s eta 0:00:05\n",
      "   ------------------ --------------------- 5.0/10.6 MB 1.5 MB/s eta 0:00:04\n",
      "   ------------------- -------------------- 5.2/10.6 MB 1.5 MB/s eta 0:00:04\n",
      "   -------------------- ------------------- 5.5/10.6 MB 1.5 MB/s eta 0:00:04\n",
      "   --------------------- ------------------ 5.8/10.6 MB 1.5 MB/s eta 0:00:04\n",
      "   ---------------------- ----------------- 6.0/10.6 MB 1.5 MB/s eta 0:00:04\n",
      "   ---------------------- ----------------- 6.0/10.6 MB 1.5 MB/s eta 0:00:04\n",
      "   ----------------------- ---------------- 6.3/10.6 MB 1.4 MB/s eta 0:00:03\n",
      "   ------------------------ --------------- 6.6/10.6 MB 1.4 MB/s eta 0:00:03\n",
      "   ------------------------- -------------- 6.8/10.6 MB 1.4 MB/s eta 0:00:03\n",
      "   ------------------------- -------------- 6.8/10.6 MB 1.4 MB/s eta 0:00:03\n",
      "   ------------------------- -------------- 6.8/10.6 MB 1.4 MB/s eta 0:00:03\n",
      "   -------------------------- ------------- 7.1/10.6 MB 1.3 MB/s eta 0:00:03\n",
      "   -------------------------- ------------- 7.1/10.6 MB 1.3 MB/s eta 0:00:03\n",
      "   -------------------------- ------------- 7.1/10.6 MB 1.3 MB/s eta 0:00:03\n",
      "   --------------------------- ------------ 7.3/10.6 MB 1.2 MB/s eta 0:00:03\n",
      "   --------------------------- ------------ 7.3/10.6 MB 1.2 MB/s eta 0:00:03\n",
      "   ---------------------------- ----------- 7.6/10.6 MB 1.2 MB/s eta 0:00:03\n",
      "   ---------------------------- ----------- 7.6/10.6 MB 1.2 MB/s eta 0:00:03\n",
      "   ---------------------------- ----------- 7.6/10.6 MB 1.2 MB/s eta 0:00:03\n",
      "   ---------------------------- ----------- 7.6/10.6 MB 1.2 MB/s eta 0:00:03\n",
      "   ----------------------------- ---------- 7.9/10.6 MB 1.1 MB/s eta 0:00:03\n",
      "   ----------------------------- ---------- 7.9/10.6 MB 1.1 MB/s eta 0:00:03\n",
      "   ----------------------------- ---------- 7.9/10.6 MB 1.1 MB/s eta 0:00:03\n",
      "   ------------------------------ --------- 8.1/10.6 MB 1.0 MB/s eta 0:00:03\n",
      "   ------------------------------- -------- 8.4/10.6 MB 1.0 MB/s eta 0:00:03\n",
      "   -------------------------------- ------- 8.7/10.6 MB 1.0 MB/s eta 0:00:02\n",
      "   -------------------------------- ------- 8.7/10.6 MB 1.0 MB/s eta 0:00:02\n",
      "   --------------------------------- ------ 8.9/10.6 MB 1.0 MB/s eta 0:00:02\n",
      "   --------------------------------- ------ 8.9/10.6 MB 1.0 MB/s eta 0:00:02\n",
      "   ---------------------------------- ----- 9.2/10.6 MB 1.0 MB/s eta 0:00:02\n",
      "   ----------------------------------- ---- 9.4/10.6 MB 1.0 MB/s eta 0:00:02\n",
      "   ------------------------------------ --- 9.7/10.6 MB 1.0 MB/s eta 0:00:01\n",
      "   ------------------------------------ --- 9.7/10.6 MB 1.0 MB/s eta 0:00:01\n",
      "   ------------------------------------- -- 10.0/10.6 MB 1.0 MB/s eta 0:00:01\n",
      "   ------------------------------------- -- 10.0/10.6 MB 1.0 MB/s eta 0:00:01\n",
      "   -------------------------------------- - 10.2/10.6 MB 992.4 kB/s eta 0:00:01\n",
      "   ---------------------------------------- 10.6/10.6 MB 998.7 kB/s eta 0:00:00\n",
      "Installing collected packages: pygame\n",
      "Successfully installed pygame-2.6.1\n"
     ]
    },
    {
     "name": "stderr",
     "output_type": "stream",
     "text": [
      "\n",
      "[notice] A new release of pip is available: 25.1.1 -> 25.2\n",
      "[notice] To update, run: python.exe -m pip install --upgrade pip\n"
     ]
    }
   ],
   "source": [
    "!pip install pygame"
   ]
  },
  {
   "cell_type": "code",
   "execution_count": 2,
   "id": "c69fe47d",
   "metadata": {},
   "outputs": [
    {
     "name": "stdout",
     "output_type": "stream",
     "text": [
      "pygame 2.6.1 (SDL 2.28.4, Python 3.13.2)\n",
      "Hello from the pygame community. https://www.pygame.org/contribute.html\n"
     ]
    }
   ],
   "source": [
    "import pygame\n",
    "from pygame.draw import *"
   ]
  },
  {
   "cell_type": "code",
   "execution_count": null,
   "id": "b46d5fdd",
   "metadata": {},
   "outputs": [],
   "source": []
  },
  {
   "cell_type": "code",
   "execution_count": 52,
   "id": "232bf15b",
   "metadata": {},
   "outputs": [
    {
     "ename": "KeyboardInterrupt",
     "evalue": "",
     "output_type": "error",
     "traceback": [
      "\u001b[31m---------------------------------------------------------------------------\u001b[39m",
      "\u001b[31mKeyboardInterrupt\u001b[39m                         Traceback (most recent call last)",
      "\u001b[36mCell\u001b[39m\u001b[36m \u001b[39m\u001b[32mIn[52]\u001b[39m\u001b[32m, line 30\u001b[39m\n\u001b[32m     27\u001b[39m finished = \u001b[38;5;28;01mFalse\u001b[39;00m\n\u001b[32m     29\u001b[39m \u001b[38;5;28;01mwhile\u001b[39;00m \u001b[38;5;129;01mnot\u001b[39;00m finished:\n\u001b[32m---> \u001b[39m\u001b[32m30\u001b[39m     \u001b[43mclock\u001b[49m\u001b[43m.\u001b[49m\u001b[43mtick\u001b[49m\u001b[43m(\u001b[49m\u001b[43mFPS\u001b[49m\u001b[43m)\u001b[49m\n\u001b[32m     31\u001b[39m     \u001b[38;5;28;01mfor\u001b[39;00m event \u001b[38;5;129;01min\u001b[39;00m pygame.event.get():\n\u001b[32m     32\u001b[39m         \u001b[38;5;28;01mif\u001b[39;00m event.type == pygame.QUIT:\n",
      "\u001b[31mKeyboardInterrupt\u001b[39m: "
     ]
    }
   ],
   "source": [
    "pygame.init()\n",
    "\n",
    "FPS = 30\n",
    "screen = pygame.display.set_mode((400, 400))\n",
    "screen.fill((255,255,255))\n",
    "\n",
    "circle(screen, (255, 255,0), (200, 200), 80)\n",
    "circle(screen, (0,0,0), (200, 200), 80, 3)\n",
    "\n",
    "circle(screen, (255, 0,0), (160, 170), 17)\n",
    "circle(screen, (0,0,0), (160, 170), 17, 2)\n",
    "circle(screen, (0, 0,0), (160, 170), 9)\n",
    "\n",
    "\n",
    "circle(screen, (255, 0,0), (235, 170), 12)\n",
    "circle(screen, (0,0,0), (235, 170), 12, 2)\n",
    "circle(screen, (0, 0,0), (235, 170), 6)\n",
    "\n",
    "\n",
    "polygon(screen, (0,0,0), [(140,130),(180,165)], 10)\n",
    "polygon(screen, (0,0,0), [(220,160),(255,135)], 10)\n",
    "\n",
    "polygon(screen, (0,0,0), [(150,230),(250,230)], 15)\n",
    "\n",
    "pygame.display.update()\n",
    "clock = pygame.time.Clock()\n",
    "finished = False\n",
    "\n",
    "while not finished:\n",
    "    clock.tick(FPS)\n",
    "    for event in pygame.event.get():\n",
    "        if event.type == pygame.QUIT:\n",
    "            finished = True\n",
    "\n",
    "pygame.quit()"
   ]
  },
  {
   "cell_type": "code",
   "execution_count": 108,
   "id": "5703f1a3",
   "metadata": {},
   "outputs": [
    {
     "ename": "KeyboardInterrupt",
     "evalue": "",
     "output_type": "error",
     "traceback": [
      "\u001b[31m---------------------------------------------------------------------------\u001b[39m",
      "\u001b[31mKeyboardInterrupt\u001b[39m                         Traceback (most recent call last)",
      "\u001b[36mCell\u001b[39m\u001b[36m \u001b[39m\u001b[32mIn[108]\u001b[39m\u001b[32m, line 34\u001b[39m\n\u001b[32m     31\u001b[39m finished = \u001b[38;5;28;01mFalse\u001b[39;00m\n\u001b[32m     33\u001b[39m \u001b[38;5;28;01mwhile\u001b[39;00m \u001b[38;5;129;01mnot\u001b[39;00m finished:\n\u001b[32m---> \u001b[39m\u001b[32m34\u001b[39m     \u001b[43mclock\u001b[49m\u001b[43m.\u001b[49m\u001b[43mtick\u001b[49m\u001b[43m(\u001b[49m\u001b[43mFPS\u001b[49m\u001b[43m)\u001b[49m\n\u001b[32m     35\u001b[39m     \u001b[38;5;28;01mfor\u001b[39;00m event \u001b[38;5;129;01min\u001b[39;00m pygame.event.get():\n\u001b[32m     36\u001b[39m         \u001b[38;5;28;01mif\u001b[39;00m event.type == pygame.QUIT:\n",
      "\u001b[31mKeyboardInterrupt\u001b[39m: "
     ]
    }
   ],
   "source": [
    "pygame.init()\n",
    "\n",
    "FPS = 30\n",
    "screen = pygame.display.set_mode((700, 1000))\n",
    "screen.fill((255,239,217))\n",
    "\n",
    "\n",
    "\n",
    "\n",
    "\n",
    "polygon(screen, (255,250,217), [(0,330),(700,335)], 200)\n",
    "polygon(screen, (255,187,187), [(0,500),(700,555)], 200)\n",
    "polygon(screen, (188,143,143), [(0,900),(700,905)], 300)\n",
    "\n",
    "\n",
    "polygon(screen, (176,196,222), [(0,550),(0,500),(100,415),(150,375),(200,365),(250,426),(300,335),(350,457),(400,449),(450,335),(500,335),(550,395),(600,390),(650,367),(700,399),(730,500)])\n",
    "polygon(screen, (184,67,23), [(0,900),(0,650),(100,605),(150,556),(200,565),(250,626),(300,605),(350,707),(400,749),(450,695),(500,635),(550,395),(600,690),(650,637),(700,569),(730,850)])\n",
    "ellipse(screen, (184,67,23), (95,700,400,100))\n",
    "ellipse(screen, (184,67,23), (110,540,150,200))\n",
    "ellipse(screen, (184,67,23), (570,620,250,200))\n",
    "\n",
    "circle(screen, (255, 235,100), (150, 190), 50)\n",
    "polygon(screen, (0,0,0), [(600,130),(630,150)],10)\n",
    "polygon(screen, (0,0,0), [(660,130),(630,150)],10)\n",
    "polygon(screen, (0,0,0), [(560,90),(590,110)],10)\n",
    "polygon(screen, (0,0,0), [(620,90),(590,110)],10)\n",
    "polygon(screen, (0,0,0), [(550,170),(580,190)],10)\n",
    "polygon(screen, (0,0,0), [(610,170),(580,190)],10)\n",
    "pygame.display.update()\n",
    "clock = pygame.time.Clock()\n",
    "finished = False\n",
    "\n",
    "while not finished:\n",
    "    clock.tick(FPS)\n",
    "    for event in pygame.event.get():\n",
    "        if event.type == pygame.QUIT:\n",
    "            finished = True\n",
    "\n",
    "pygame.quit()"
   ]
  }
 ],
 "metadata": {
  "kernelspec": {
   "display_name": "Python 3",
   "language": "python",
   "name": "python3"
  },
  "language_info": {
   "codemirror_mode": {
    "name": "ipython",
    "version": 3
   },
   "file_extension": ".py",
   "mimetype": "text/x-python",
   "name": "python",
   "nbconvert_exporter": "python",
   "pygments_lexer": "ipython3",
   "version": "3.13.2"
  }
 },
 "nbformat": 4,
 "nbformat_minor": 5
}
